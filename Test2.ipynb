{
 "cells": [
  {
   "cell_type": "code",
   "execution_count": 1,
   "id": "fce892b6-29bd-464a-9d06-e55fa26f8b9a",
   "metadata": {},
   "outputs": [],
   "source": [
    "from dataloader.dataloader import *\n",
    "from PIL import Image\n",
    "\n",
    "from model.model import ResNetAE\n",
    "import os\n",
    "import torch\n",
    "import numpy as np\n",
    "from skimage import io\n",
    "import trimesh\n",
    "\n",
    "from utils.utils import get_peeled_intersections, get_rgb_peels, get_depth_peels, mesh_init\n",
    "from utils.sceneflow import get_scf_peels\n",
    "from utils.loss_utils import *\n",
    "from utils.backproject import *\n",
    "from dataloader.dataloader import *\n",
    "from torchvision import transforms"
   ]
  },
  {
   "cell_type": "code",
   "execution_count": 2,
   "id": "daae1cab-5a84-43b9-9a35-52f5cfb92ac1",
   "metadata": {},
   "outputs": [],
   "source": [
    "dataset_path = '/home2/richa.mishra/4DReconstruction/dataset/03384'\n",
    "seq_ID = '03384'\n",
    "\n",
    "dataloader = TemporalDataloader(dataset_path, seq_ID, K_frames=2, \n",
    "                               batch_size = 2, shuffle=True)"
   ]
  },
  {
   "cell_type": "code",
   "execution_count": 3,
   "id": "08a162f1-9951-4ce4-9821-32446beefb84",
   "metadata": {},
   "outputs": [
    {
     "name": "stdout",
     "output_type": "stream",
     "text": [
      "idx = 0\n",
      "torch.Size([1, 2, 18, 512, 512])\n",
      "torch.Size([1, 2, 4, 512, 512])\n",
      "torch.Size([2, 18, 512, 512])\n",
      "torch.Size([2, 4, 512, 512])\n"
     ]
    }
   ],
   "source": [
    "for idx, d in enumerate(dataloader):\n",
    "    print(\"idx = \"+str(idx))\n",
    "    rgb, dep1, dep2 = d\n",
    "    print(rgb.shape)\n",
    "    print(dep1.shape)\n",
    "    B, K, C, H, W = rgb.shape\n",
    "    B, K, n_peels, H, W = dep1.shape\n",
    "    \n",
    "    dep1 = dep1.reshape(B*K, n_peels, H, W)\n",
    "    dep2 = dep2.reshape(B*K, n_peels, H, W)\n",
    "    rgb = rgb.reshape(B*K, C, H, W)\n",
    "    print(rgb.shape)\n",
    "    print(dep1.shape)"
   ]
  },
  {
   "cell_type": "code",
   "execution_count": 4,
   "id": "42fe1b08-cbf0-4fe4-8c80-1ee443d6a565",
   "metadata": {},
   "outputs": [
    {
     "name": "stdout",
     "output_type": "stream",
     "text": [
      "torch.Size([15928, 3])\n",
      "torch.Size([15903, 3])\n"
     ]
    }
   ],
   "source": [
    "pc_curr = batch_pointclouds(dep1[:,0,:,:])\n",
    "for pcl in pc_curr:\n",
    "    print(pcl.points_packed().shape)"
   ]
  },
  {
   "cell_type": "code",
   "execution_count": 5,
   "id": "88f5b07c-59a8-4870-900b-501ccfe526a2",
   "metadata": {},
   "outputs": [
    {
     "name": "stdout",
     "output_type": "stream",
     "text": [
      "torch.Size([15928, 3])\n",
      "torch.Size([15903, 3])\n"
     ]
    }
   ],
   "source": [
    "pc_next_pred = batch_pointclouds_pred(rgb[:,6:9,:,:], dep1[:,0,:,:])\n",
    "for pcl in pc_next_pred:\n",
    "    print(pcl.points_packed().shape)"
   ]
  },
  {
   "cell_type": "code",
   "execution_count": 4,
   "id": "aec48e82-a10a-4ccf-8db6-f059d997fd0d",
   "metadata": {},
   "outputs": [
    {
     "name": "stdout",
     "output_type": "stream",
     "text": [
      "torch.Size([2, 12, 512, 512])\n"
     ]
    }
   ],
   "source": [
    "scf_zero = torch.zeros_like(rgb[:,6:,:,:])\n",
    "print(scf_zero.shape)"
   ]
  },
  {
   "cell_type": "code",
   "execution_count": 5,
   "id": "1e57b8ee-b472-4118-8914-a939ea71726f",
   "metadata": {},
   "outputs": [],
   "source": [
    "pc_bp = backproject(scf_zero, dep1)"
   ]
  },
  {
   "cell_type": "code",
   "execution_count": 6,
   "id": "b7fe9758-77f3-4f6e-90df-81192e3ec61c",
   "metadata": {},
   "outputs": [
    {
     "data": {
      "text/plain": [
       "(tensor(2.4157), tensor(2.4216), tensor(2.4248))"
      ]
     },
     "execution_count": 6,
     "metadata": {},
     "output_type": "execute_result"
    }
   ],
   "source": [
    "pc_bp[0,0,256,256], dep1[0,0,256,256], dep2[0,0,256,256]"
   ]
  },
  {
   "cell_type": "code",
   "execution_count": 6,
   "id": "0cde8b41-1a36-408d-b854-8cea95547a48",
   "metadata": {},
   "outputs": [
    {
     "data": {
      "text/plain": [
       "(tensor([205, 205, 205,  ..., 511, 511, 511]),\n",
       " tensor([327, 328, 335,  ..., 336, 337, 338]))"
      ]
     },
     "execution_count": 6,
     "metadata": {},
     "output_type": "execute_result"
    }
   ],
   "source": [
    "torch.where(pc_bp[0,0,:, :]>0)"
   ]
  },
  {
   "cell_type": "code",
   "execution_count": 9,
   "id": "afd9f091-33da-42e9-af57-e8ae98cd9ae1",
   "metadata": {},
   "outputs": [
    {
     "data": {
      "text/plain": [
       "(15903, 16764)"
      ]
     },
     "execution_count": 9,
     "metadata": {},
     "output_type": "execute_result"
    }
   ],
   "source": [
    "len(torch.where(dep2[0,0,:, :]>0)[0]), len(torch.where(pc_bp[0,0,:,:]>0)[0])"
   ]
  },
  {
   "cell_type": "code",
   "execution_count": 9,
   "id": "87fb73a9-df1b-4a9c-8d31-70a8f99c0904",
   "metadata": {},
   "outputs": [
    {
     "data": {
      "text/plain": [
       "tensor(2.6781)"
      ]
     },
     "execution_count": 9,
     "metadata": {},
     "output_type": "execute_result"
    }
   ],
   "source": [
    "torch.max(dep2[0,:,:, :])"
   ]
  },
  {
   "cell_type": "code",
   "execution_count": 10,
   "id": "70299503-c054-49cc-b48e-ad16e911e928",
   "metadata": {},
   "outputs": [
    {
     "data": {
      "text/plain": [
       "tensor(2.6925)"
      ]
     },
     "execution_count": 10,
     "metadata": {},
     "output_type": "execute_result"
    }
   ],
   "source": [
    "torch.max(pc_bp[0,:,:, :])"
   ]
  },
  {
   "cell_type": "code",
   "execution_count": 11,
   "id": "142b60d4-5223-4e6f-ba3f-1891edd1350a",
   "metadata": {},
   "outputs": [
    {
     "data": {
      "text/plain": [
       "tensor(0.0568)"
      ]
     },
     "execution_count": 11,
     "metadata": {},
     "output_type": "execute_result"
    }
   ],
   "source": [
    "torch.max(rgb[:,6:9,:,:])"
   ]
  },
  {
   "cell_type": "code",
   "execution_count": 24,
   "id": "3c98346d-1310-4c80-af57-c8badc64a660",
   "metadata": {},
   "outputs": [
    {
     "data": {
      "text/plain": [
       "tensor(0.0065)"
      ]
     },
     "execution_count": 24,
     "metadata": {},
     "output_type": "execute_result"
    }
   ],
   "source": [
    "diff = torch.abs(pc_bp - dep1)\n",
    "torch.mean(diff)"
   ]
  },
  {
   "cell_type": "code",
   "execution_count": 8,
   "id": "de544b1d-57dd-446b-9def-f2c4ede9c8b1",
   "metadata": {},
   "outputs": [
    {
     "data": {
      "image/png": "[encoded data removed]",
      "text/plain": [
       "<PIL.Image.Image image mode=RGB size=512x512 at 0x14D608231130>"
      ]
     },
     "execution_count": 8,
     "metadata": {},
     "output_type": "execute_result"
    }
   ],
   "source": [
    "im = torch.ones_like(dep2)\n",
    "\n",
    "diff = torch.abs(dep2 - pc_bp)\n",
    "diff_img = Image.fromarray(np.uint8(diff[0,0,:,:]*90)).convert('RGB')\n",
    "diff_img"
   ]
  },
  {
   "cell_type": "code",
   "execution_count": 21,
   "id": "5889f53e-d526-4cd9-a8d0-0b6da564b6d0",
   "metadata": {},
   "outputs": [
    {
     "data": {
      "image/png": "[encoded data removed]",
      "text/plain": [
       "<PIL.Image.Image image mode=RGB size=512x512 at 0x14D20C527B80>"
      ]
     },
     "execution_count": 21,
     "metadata": {},
     "output_type": "execute_result"
    }
   ],
   "source": [
    "diff_img = Image.fromarray(np.uint8(dep2[0,0,:,:]*100)).convert('RGB')\n",
    "diff_img"
   ]
  },
  {
   "cell_type": "code",
   "execution_count": 7,
   "id": "7ad6fc30-f58f-48df-9bd6-00c39dd30eed",
   "metadata": {},
   "outputs": [
    {
     "data": {
      "image/png": "[encoded data removed]",
      "text/plain": [
       "<PIL.Image.Image image mode=RGB size=512x512 at 0x14D6ECAE0C10>"
      ]
     },
     "execution_count": 7,
     "metadata": {},
     "output_type": "execute_result"
    }
   ],
   "source": [
    "diff_img = Image.fromarray(np.uint8(pc_bp[0,0,:,:]*100)).convert('RGB')\n",
    "diff_img"
   ]
  },
  {
   "cell_type": "code",
   "execution_count": null,
   "id": "13c7e7c4-dd1c-4723-84e2-e706e9263190",
   "metadata": {},
   "outputs": [],
   "source": []
  }
 ],
 "metadata": {
  "kernelspec": {
   "display_name": "Python 3 (ipykernel)",
   "language": "python",
   "name": "python3"
  },
  "language_info": {
   "codemirror_mode": {
    "name": "ipython",
    "version": 3
   },
   "file_extension": ".py",
   "mimetype": "text/x-python",
   "name": "python",
   "nbconvert_exporter": "python",
   "pygments_lexer": "ipython3",
   "version": "3.8.11"
  }
 },
 "nbformat": 4,
 "nbformat_minor": 5
}
