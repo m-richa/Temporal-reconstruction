{
 "cells": [
  {
   "cell_type": "code",
   "execution_count": 14,
   "id": "0c24232e-10af-48cb-8851-a46be8aa04f6",
   "metadata": {},
   "outputs": [],
   "source": [
    "from utils.utils import get_peeled_intersections, get_rgb_peels, get_depth_peels, mesh_init\n",
    "from utils.sceneflow import get_scf_peels\n",
    "\n",
    "import os\n",
    "from PIL import Image\n",
    "import numpy as np\n",
    "#from scipy.interpolate import griddata, RectBivariateSpline\n",
    "import scipy\n",
    "import trimesh\n",
    "\n",
    "import matplotlib.pyplot as plt\n",
    "import matplotlib.tri as tri\n",
    "#from scipy.interpolate import LinearNDInterpolator\n",
    "\n",
    "import os\n",
    "import torch\n",
    "import torch.nn.functional as F\n",
    "import matplotlib.pyplot as plt\n",
    "\n",
    "# Util function for loading point clouds|\n",
    "import numpy as np\n",
    "\n",
    "# Data structures and functions for rendering\n",
    "from pytorch3d.structures import Pointclouds\n",
    "from pytorch3d.vis.plotly_vis import AxisArgs, plot_batch_individually, plot_scene\n",
    "from pytorch3d.renderer import (\n",
    "    look_at_view_transform,\n",
    "    FoVPerspectiveCameras,\n",
    "    PointsRasterizationSettings,\n",
    "    PointsRenderer,\n",
    "    PulsarPointsRenderer,\n",
    "    PointsRasterizer,\n",
    "    AlphaCompositor,\n",
    "    NormWeightedCompositor\n",
    ")\n",
    "\n",
    "from pytorch3d.renderer.mesh.utils import _clip_barycentric_coordinates, _interpolate_zbuf"
   ]
  },
  {
   "cell_type": "code",
   "execution_count": 2,
   "id": "fd149b73-cb88-4695-80b8-12c7ac0d3d2a",
   "metadata": {},
   "outputs": [],
   "source": [
    "if torch.cuda.is_available():\n",
    "    device = torch.device(\"cuda:0\")\n",
    "    torch.cuda.set_device(device)\n",
    "else:\n",
    "    device = torch.device(\"cpu\")"
   ]
  },
  {
   "cell_type": "code",
   "execution_count": 3,
   "id": "b62152df-b44d-421d-87e8-beffd5e07139",
   "metadata": {},
   "outputs": [
    {
     "data": {
      "text/plain": [
       "device(type='cpu')"
      ]
     },
     "execution_count": 3,
     "metadata": {},
     "output_type": "execute_result"
    }
   ],
   "source": [
    "device = torch.device(\"cpu\")\n",
    "device"
   ]
  },
  {
   "cell_type": "code",
   "execution_count": 4,
   "id": "31a29c2b-1faa-4b4b-9295-742d231c7841",
   "metadata": {},
   "outputs": [],
   "source": [
    "K = np.array([[443.40500674,   0.        , 256., 0        ],\n",
    "              [  0.        , 443.40500674, 256., 0        ],\n",
    "              [  0.        ,   0.        ,   1., 0        ], \n",
    "              [  0.        ,   0.        ,   0., 1        ]])\n",
    "\n",
    "K = torch.tensor(K).float()\n",
    "\n",
    "rotate_1 = trimesh.transformations.rotation_matrix(angle=np.radians(90), direction=[0, 0, -1])\n",
    "rotate_2 = trimesh.transformations.rotation_matrix(angle=np.radians(180), direction=[0,-1,0])\n",
    "EXTRINSIC = torch.tensor(rotate_1[:3, :3] @ rotate_2[:3, :3]).float()\n",
    "extrinsic = EXTRINSIC"
   ]
  },
  {
   "cell_type": "code",
   "execution_count": 5,
   "id": "4bed9904-ac02-4270-8aed-ec6daaa18b77",
   "metadata": {},
   "outputs": [
    {
     "data": {
      "text/plain": [
       "tensor([[-6.1232e-17,  1.0000e+00, -7.4988e-33],\n",
       "        [ 1.0000e+00,  6.1232e-17,  1.2246e-16],\n",
       "        [ 1.2246e-16,  0.0000e+00, -1.0000e+00]])"
      ]
     },
     "execution_count": 5,
     "metadata": {},
     "output_type": "execute_result"
    }
   ],
   "source": [
    "extrinsic"
   ]
  },
  {
   "cell_type": "code",
   "execution_count": 6,
   "id": "048d340f-3c99-4899-939c-16e051b3e8b2",
   "metadata": {
    "tags": []
   },
   "outputs": [
    {
     "ename": "NameError",
     "evalue": "name 'TemporalDataloader' is not defined",
     "output_type": "error",
     "traceback": [
      "\u001b[0;31m---------------------------------------------------------------------------\u001b[0m",
      "\u001b[0;31mNameError\u001b[0m                                 Traceback (most recent call last)",
      "\u001b[0;32m/tmp/ipykernel_346/543152048.py\u001b[0m in \u001b[0;36m<module>\u001b[0;34m\u001b[0m\n\u001b[1;32m      1\u001b[0m \u001b[0mdatasetpath\u001b[0m \u001b[0;34m=\u001b[0m \u001b[0;34m'/home2/richa.mishra/4DReconstruction/dataset'\u001b[0m\u001b[0;34m\u001b[0m\u001b[0;34m\u001b[0m\u001b[0m\n\u001b[0;32m----> 2\u001b[0;31m \u001b[0mloader\u001b[0m \u001b[0;34m=\u001b[0m \u001b[0mTemporalDataloader\u001b[0m\u001b[0;34m(\u001b[0m\u001b[0mdatasetpath\u001b[0m\u001b[0;34m,\u001b[0m \u001b[0;34m'00491'\u001b[0m\u001b[0;34m,\u001b[0m \u001b[0;36m2\u001b[0m\u001b[0;34m,\u001b[0m \u001b[0;36m2\u001b[0m\u001b[0;34m,\u001b[0m\u001b[0;34m)\u001b[0m\u001b[0;34m\u001b[0m\u001b[0;34m\u001b[0m\u001b[0m\n\u001b[0m",
      "\u001b[0;31mNameError\u001b[0m: name 'TemporalDataloader' is not defined"
     ]
    }
   ],
   "source": [
    "datasetpath = '/home2/richa.mishra/4DReconstruction/dataset'\n",
    "loader = TemporalDataloader(datasetpath, '00491', 2, 2,)"
   ]
  },
  {
   "cell_type": "code",
   "execution_count": 10,
   "id": "cac53f60-e97c-430c-8c1d-169c94780027",
   "metadata": {},
   "outputs": [
    {
     "name": "stdout",
     "output_type": "stream",
     "text": [
      "torch.Size([4, 512, 512, 12])\n",
      "torch.Size([4, 12, 512, 512])\n",
      "torch.Size([4, 4, 512, 512])\n"
     ]
    }
   ],
   "source": [
    "for batch_idx, data in enumerate(loader):\n",
    "    \n",
    "    rgb_scf, gt_dep1, gt_dep2 = data\n",
    "\n",
    "    B, K, H, W, ch = rgb_scf.shape\n",
    "    rgb_scf = rgb_scf.reshape(B*K, H, W, ch).cuda()\n",
    "\n",
    "    B, K, n_peels, H, W = gt_dep1.shape\n",
    "    \n",
    "    gt_dep1 = gt_dep1.reshape(B*K, n_peels, H, W).cuda()\n",
    "    gt_dep2 = gt_dep2.reshape(B*K, n_peels, H, W).cuda()\n",
    "\n",
    "    #output = self.model(rgb_scf)\n",
    "    #loss = self.criterion(output, gt_dep1, gt_dep2)\n",
    "print(rgb_scf[:,:,:,6:].shape)\n",
    "rgb_scf1 = rgb_scf[:,:,:,6:].reshape(4, 12, 512, 512)\n",
    "print(rgb_scf1.shape)\n",
    "print(gt_dep1.shape)"
   ]
  },
  {
   "cell_type": "code",
   "execution_count": 16,
   "id": "519b2540-2736-4c76-8f02-77af375a865b",
   "metadata": {},
   "outputs": [],
   "source": []
  },
  {
   "cell_type": "code",
   "execution_count": 6,
   "id": "5789264f-ec88-4a4e-8789-55fda3e55641",
   "metadata": {},
   "outputs": [
    {
     "data": {
      "text/plain": [
       "0.14339656"
      ]
     },
     "execution_count": 6,
     "metadata": {},
     "output_type": "execute_result"
    }
   ],
   "source": [
    "root = '/home2/richa.mishra/4DReconstruction/cloth3d_goodseqs/00491'\n",
    "out_dir = '/home2/richa.mishra/4DReconstruction/test'\n",
    "mesh = mesh_init(root, 'Frame000', is_smpl=False)\n",
    "mesh_next = mesh_init(root, 'Frame002', is_smpl=False)\n",
    "#mesh.export(file_obj='/home2/richa.mishra/4DReconstruction/curr.obj')\n",
    "#mesh_next.export(file_obj = '/home2/richa.mishra/4DReconstruction/next.obj')\n",
    "\n",
    "smesh = mesh_init(root, 'Frame000', is_smpl=True)\n",
    "smesh_next = mesh_init(root, 'Frame002', is_smpl=True)\n",
    "#smesh.export(file_obj='/home2/richa.mishra/4DReconstruction/scurr.obj')\n",
    "#smesh_next.export(file_obj = '/home2/richa.mishra/4DReconstruction/snext.obj')\n",
    "\n",
    "intersections, ray_param, ray_intersect_param, scene = get_peeled_intersections(root, 'Frame000', is_smpl=True)\n",
    "intersections2, ray_param2, ray_intersect_param2, scene2 = get_peeled_intersections(root, 'Frame002', is_smpl=True)\n",
    "\n",
    "scf, K1 = get_scf_peels(root, 'Frame000', 'Frame002',\n",
    "                             intersections, ray_param,\n",
    "                             ray_intersect_param, scene, out_dir)\n",
    "\n",
    "smpl_depth_curr, _ = get_depth_peels(root, 'Frame000', intersections, ray_param, ray_intersect_param, scene, out_dir, is_smpl=True)\n",
    "smpl_depth_next, _ = get_depth_peels(root, 'Frame002', intersections2, ray_param2, ray_intersect_param2, scene2, out_dir, is_smpl=True)\n",
    "np.max(scf)"
   ]
  },
  {
   "cell_type": "code",
   "execution_count": 7,
   "id": "7f3700f9-b2dc-48ad-ac9f-919c6f70c58c",
   "metadata": {},
   "outputs": [
    {
     "data": {
      "image/png": "[encoded data removed]",
      "text/plain": [
       "<PIL.Image.Image image mode=RGB size=512x512 at 0x1539501D53D0>"
      ]
     },
     "execution_count": 7,
     "metadata": {},
     "output_type": "execute_result"
    }
   ],
   "source": [
    "scf_image1 = Image.fromarray((np.uint8(scf[0]*500))).convert('RGB')\n",
    "scf_image1"
   ]
  },
  {
   "cell_type": "code",
   "execution_count": 8,
   "id": "5d9907bf-dace-4039-9331-6fd4ea172d9e",
   "metadata": {
    "tags": []
   },
   "outputs": [
    {
     "name": "stdout",
     "output_type": "stream",
     "text": [
      "torch.Size([3, 8589])\n"
     ]
    }
   ],
   "source": [
    "mask = torch.where(torch.tensor(smpl_depth_curr[0])>0)\n",
    "mask2 = torch.where(torch.tensor(smpl_depth_next[0])>0)\n",
    "y, x = mask\n",
    "ones = torch.ones_like(x)\n",
    "im_points = torch.stack((x, y, ones), 0).float()\n",
    "K1 = torch.tensor(K1).float()\n",
    "\n",
    "world_points = (torch.linalg.inv(extrinsic) @ torch.linalg.inv(K1) @ (im_points * smpl_depth_curr[0][mask]))#.cpu().numpy()\n",
    "world_points_next_gt = (torch.linalg.inv(extrinsic) @ torch.linalg.inv(K1) @ (im_points * smpl_depth_next[0][mask]))#.cpu().numpy()\n",
    "world_points_next = (world_points.T + scf[0][mask]).T\n",
    "print(world_points_next_gt.shape)\n",
    "im_points_next = K1 @ extrinsic @ world_points_next\n",
    "im_points = K1 @ extrinsic @ world_points\n",
    "\n",
    "#world_points_pcl=trimesh.PointCloud(world_points_next_gt.T)\n",
    "#world_points_next_pcl=trimesh.PointCloud(world_points.T)\n",
    "#world_points_pcl.export(\"/home2/richa.mishra/4DReconstruction/gtgt.obj\")\n",
    "#world_points_next_pcl.export(\"home2/richa.mishra/4DReconstruction/pred.obj\")\n"
   ]
  },
  {
   "cell_type": "code",
   "execution_count": 9,
   "id": "de41340c-25b2-406a-b04b-3267d46f8538",
   "metadata": {},
   "outputs": [
    {
     "data": {
      "text/plain": [
       "tensor(0.0063)"
      ]
     },
     "execution_count": 9,
     "metadata": {},
     "output_type": "execute_result"
    }
   ],
   "source": [
    "torch.mean(torch.abs(torch.tensor(scf[0][mask])))#.shape"
   ]
  },
  {
   "cell_type": "code",
   "execution_count": 11,
   "id": "259412fa-e7f0-4fd8-a448-f8b1a304ae99",
   "metadata": {},
   "outputs": [],
   "source": [
    "rgb = torch.tensor([0,0,255]*len(world_points.T)).reshape(-1,3).float()"
   ]
  },
  {
   "cell_type": "code",
   "execution_count": 35,
   "id": "731fe0e5-a798-4dfc-bbc0-9a879bfe5cd7",
   "metadata": {},
   "outputs": [
    {
     "data": {
      "text/plain": [
       "torch.Size([1, 3, 3])"
      ]
     },
     "execution_count": 35,
     "metadata": {},
     "output_type": "execute_result"
    }
   ],
   "source": [
    "R.shape"
   ]
  },
  {
   "cell_type": "code",
   "execution_count": 10,
   "id": "5a770562-a509-4ec5-b267-4bea71600016",
   "metadata": {},
   "outputs": [],
   "source": [
    "#pointcloud = np.load('/home2/richa.mishra/4DReconstruction/gtgt.obj', allow_pickle=True)\n",
    "#verts = torch.Tensor(pointcloud['verts']).to(device)\n",
    "        \n",
    "#rgb = torch.Tensor(pointcloud['rgb']).to(device)\n",
    "\n",
    "point_cloud = Pointclouds(points=world_points.float().T.unsqueeze(0))#, features=[rgb])\n",
    "\n",
    "#pointcloud = Pointclouds(points=[torch.tensor(world_points.T)], features=[rgb])"
   ]
  },
  {
   "cell_type": "code",
   "execution_count": 11,
   "id": "e0e0e25b-80d0-4c89-bca2-af826f560126",
   "metadata": {},
   "outputs": [
    {
     "data": {
      "text/plain": [
       "torch.Size([8589, 3])"
      ]
     },
     "execution_count": 11,
     "metadata": {},
     "output_type": "execute_result"
    }
   ],
   "source": [
    "point_cloud.points_packed().shape"
   ]
  },
  {
   "cell_type": "code",
   "execution_count": 12,
   "id": "7673a891-d2a4-48de-975c-75af5010ee86",
   "metadata": {
    "jupyter": {
     "source_hidden": true
    },
    "tags": []
   },
   "outputs": [],
   "source": [
    "camera = FoVOrthographicCameras(\n",
    "    R = EXTRINSIC.unsqueeze(0),\n",
    "    T = torch.Tensor([0,0,0]).unsqueeze(0),\n",
    "    K = K.unsqueeze(0),\n",
    "    device=\"cpu\")\n",
    "\n",
    "raster_settings = PointsRasterizationSettings(\n",
    "    image_size=512, \n",
    "    radius = 0.003,\n",
    "    points_per_pixel = 1\n",
    ")\n",
    "\n",
    "rasterizer = PointsRasterizer(cameras=camera, raster_settings=raster_settings)\n",
    "renderer = PointsRenderer(\n",
    "    rasterizer=rasterizer,\n",
    "    compositor=AlphaCompositor()\n",
    ")"
   ]
  },
  {
   "cell_type": "code",
   "execution_count": 24,
   "id": "7bebca97-0580-4d6b-82aa-2814a0ce6b33",
   "metadata": {
    "tags": []
   },
   "outputs": [],
   "source": [
    "T = torch.Tensor([[0.0, 0.0, 0.0]])#.to(verts.device)\n",
    "R = torch.Tensor([[[-6.1232e-17,  1.0000e+00, -7.4988e-33],\n",
    "                   [ 1.0000e+00,  6.1232e-17,  1.2246e-16],\n",
    "                   [ 1.2246e-16,  0.0000e+00, -1.0000e+00]]])#.to(verts.device)\n",
    "\n",
    "K = torch.Tensor([[[443.40500674,   0.        , 256., 0        ],\n",
    "              [  0.        , 443.40500674, 256., 0        ],\n",
    "              [  0.        ,   0.        ,   -1., 0        ], \n",
    "              [  0.        ,   0.        ,   0., 1        ]]])\n",
    "\n",
    "K = K.float()\n",
    "#cameras = OpenGLPerspectiveCameras(device=\"cpu\", R=R, T=T, fov=-60)\n",
    "#raster_settings = PointsRasterizationSettings(image_size=512, radius=0.005, points_per_pixel=1)\n",
    "\n",
    "#renderer = PointsRenderer(rasterizer=PointsRasterizer(cameras=cameras, raster_settings=raster_settings), compositor=AlphaCompositor(background_color=(-1,-1,-1)))\n",
    "#images = renderer(point_cloud)# this need rgb\n"
   ]
  },
  {
   "cell_type": "code",
   "execution_count": 25,
   "id": "10524d7a-ad89-45cc-bc18-9b4519104f0c",
   "metadata": {},
   "outputs": [],
   "source": [
    "cameras = FoVPerspectiveCameras(device=\"cpu\", R=R, T=T, K=K)\n",
    "raster_settings = PointsRasterizationSettings(image_size=512, radius=0.01, points_per_pixel=1)\n",
    "rasterizer=PointsRasterizer(cameras=cameras, raster_settings=raster_settings)\n",
    "frag = rasterizer(point_cloud)\n"
   ]
  },
  {
   "cell_type": "code",
   "execution_count": 26,
   "id": "fc32d4c1-3f82-42aa-ac6b-b5563093b5ad",
   "metadata": {},
   "outputs": [
    {
     "name": "stdout",
     "output_type": "stream",
     "text": [
      "torch.Size([1, 512, 512, 1])\n",
      "tensor(-1.) tensor(-1.)\n",
      "tensor(0.) tensor(0.)\n"
     ]
    },
    {
     "data": {
      "image/png": "[encoded data removed]",
      "text/plain": [
       "<PIL.Image.Image image mode=RGB size=512x512 at 0x153870072F40>"
      ]
     },
     "execution_count": 26,
     "metadata": {},
     "output_type": "execute_result"
    }
   ],
   "source": [
    "zbuf = frag.zbuf[:,:,:,0]\n",
    "zbuf1 = zbuf.squeeze()\n",
    "print(frag.zbuf.shape)\n",
    "print(torch.max(zbuf1), torch.min(zbuf1))\n",
    "\n",
    "zbuf1[torch.where(zbuf1<0)] = 0\n",
    "print(torch.max(zbuf1), torch.min(zbuf1))\n",
    "\n",
    "scf_image1 = Image.fromarray((np.uint8((zbuf1))*100)).convert('RGB')\n",
    "scf_image1"
   ]
  },
  {
   "cell_type": "code",
   "execution_count": 13,
   "id": "c18e4a01-14a4-4267-b2b5-d2f42b98ca8f",
   "metadata": {},
   "outputs": [
    {
     "name": "stdout",
     "output_type": "stream",
     "text": [
      "tensor(1.2792) 1.2816406\n"
     ]
    }
   ],
   "source": [
    "zbuf1 = zbuf.squeeze()\n",
    "print(zbuf1[256,257], smpl_depth_curr[0][256,257])"
   ]
  },
  {
   "cell_type": "code",
   "execution_count": 22,
   "id": "3388474f-a79f-4228-b8c8-2ee9046d6f8c",
   "metadata": {},
   "outputs": [
    {
     "name": "stdout",
     "output_type": "stream",
     "text": [
      "tensor(0.0073)\n"
     ]
    },
    {
     "data": {
      "image/png": "[encoded data removed]",
      "text/plain": [
       "<PIL.Image.Image image mode=RGB size=512x512 at 0x1489CC0482B0>"
      ]
     },
     "execution_count": 22,
     "metadata": {},
     "output_type": "execute_result"
    }
   ],
   "source": [
    "diff = torch.abs(zbuf1 - smpl_depth_curr[0])\n",
    "print(torch.mean(diff[mask]))\n",
    "\n",
    "scf_image1 = Image.fromarray((np.uint8(diff*10000))).convert('RGB')\n",
    "scf_image1"
   ]
  },
  {
   "cell_type": "code",
   "execution_count": 65,
   "id": "a5e41967-fd97-43ab-86d8-1d3fc5d26488",
   "metadata": {},
   "outputs": [
    {
     "data": {
      "image/png": "[encoded data removed]",
      "text/plain": [
       "<PIL.Image.Image image mode=RGB size=512x512 at 0x146057817820>"
      ]
     },
     "execution_count": 65,
     "metadata": {},
     "output_type": "execute_result"
    }
   ],
   "source": [
    "scf_image1 = Image.fromarray((np.uint8(zbuf.reshape(512,512)))).convert('RGB')\n",
    "scf_image1"
   ]
  },
  {
   "cell_type": "code",
   "execution_count": 62,
   "id": "33e8a762-69f1-4f10-98ca-b3a24b532808",
   "metadata": {},
   "outputs": [
    {
     "data": {
      "image/png": "[encoded data removed]",
      "text/plain": [
       "<Figure size 720x720 with 1 Axes>"
      ]
     },
     "metadata": {
      "needs_background": "light"
     },
     "output_type": "display_data"
    }
   ],
   "source": [
    "plt.figure(figsize=(10, 10))\n",
    "plt.imshow(zbuf.reshape(512,512).cpu().numpy())\n",
    "plt.axis(\"off\");"
   ]
  },
  {
   "cell_type": "code",
   "execution_count": 9,
   "id": "dcf155aa-fa76-4b1f-9713-3409cb6566ab",
   "metadata": {},
   "outputs": [
    {
     "name": "stdout",
     "output_type": "stream",
     "text": [
      "torch.Size([4, 4, 262144, 3])\n"
     ]
    },
    {
     "data": {
      "text/plain": [
       "torch.Size([3, 262144])"
      ]
     },
     "execution_count": 9,
     "metadata": {},
     "output_type": "execute_result"
    }
   ],
   "source": [
    "print(pred.shape)\n",
    "pred1 = pred[0,0,:,:].T\n",
    "gt1 = gt[0,0,:,:].T\n",
    "\n",
    "pred1.shape"
   ]
  },
  {
   "cell_type": "code",
   "execution_count": 11,
   "id": "f6bf2bf8-1e93-4780-bc44-a0b43b669dde",
   "metadata": {},
   "outputs": [],
   "source": [
    "mesh_folder = \"/home2/richa.mishra/4DReconstruction\"\n",
    "obj3 = open(mesh_folder + '/gt.obj', 'w+')\n",
    "for vert in world_points.T.cpu().numpy():\n",
    "    obj3.write('v ' + str(vert[0]) + ' ' + str(vert[1]) + ' ' + str(vert[2]) \n",
    "               + ' 0 0 255 \\n')\n",
    "    \n",
    "obj3.close()"
   ]
  },
  {
   "cell_type": "code",
   "execution_count": 11,
   "id": "6362222b-4293-4a8d-b962-224c3cba0bf6",
   "metadata": {},
   "outputs": [],
   "source": [
    "mesh_folder = \"/home2/richa.mishra/4DReconstruction\"\n",
    "obj3 = open(mesh_folder + '/gt.obj', 'w+')\n",
    "for vert in gt1.T:\n",
    "    obj3.write('v ' + str(vert[0]) + ' ' + str(vert[1]) + ' ' + str(vert[2]) \n",
    "               + ' 0 0 255 \\n')\n",
    "    \n",
    "obj3.close()"
   ]
  },
  {
   "cell_type": "code",
   "execution_count": 4,
   "id": "9b417ee4-7924-4f8a-8094-f43d9c6cc80d",
   "metadata": {},
   "outputs": [],
   "source": []
  },
  {
   "cell_type": "code",
   "execution_count": 5,
   "id": "c7fd4d91-ce05-43fe-a671-f42528044863",
   "metadata": {
    "tags": []
   },
   "outputs": [
    {
     "data": {
      "image/png": "[encoded data removed]",
      "text/plain": [
       "<PIL.Image.Image image mode=RGB size=512x512 at 0x14552D914D30>"
      ]
     },
     "execution_count": 5,
     "metadata": {},
     "output_type": "execute_result"
    }
   ],
   "source": [
    "\n",
    "\n"
   ]
  },
  {
   "cell_type": "code",
   "execution_count": 6,
   "id": "d05cbf72-8c4f-4d24-91d3-fadf469675aa",
   "metadata": {
    "tags": []
   },
   "outputs": [
    {
     "data": {
      "image/png": "[encoded data removed]",
      "text/plain": [
       "<PIL.Image.Image image mode=RGB size=512x512 at 0x14552D9C9D00>"
      ]
     },
     "execution_count": 6,
     "metadata": {},
     "output_type": "execute_result"
    }
   ],
   "source": [
    "cintersections, cray_param, cray_intersect_param, cscene = get_peeled_intersections(root, 'Frame000', is_smpl=False)\n",
    "depth_curr, _ = get_depth_peels(root, 'Frame000', cintersections, cray_param, cray_intersect_param, cscene, out_dir, is_smpl=False)\n",
    "#depth_next, _ = get_depth_peels(root, path_next)\n",
    "dep_image1 = Image.fromarray((np.uint8(depth_curr[0]*90))).convert('RGB')\n",
    "disp_curr = [depth_curr[i] - smpl_depth_curr[i] for i in range(4)]\n",
    "dep_image1"
   ]
  },
  {
   "cell_type": "code",
   "execution_count": 7,
   "id": "617745ed-5ad6-4266-8890-2d04a2943af8",
   "metadata": {
    "tags": []
   },
   "outputs": [
    {
     "data": {
      "image/png": "[encoded data removed]",
      "text/plain": [
       "<PIL.Image.Image image mode=RGB size=512x512 at 0x14553176D610>"
      ]
     },
     "execution_count": 7,
     "metadata": {},
     "output_type": "execute_result"
    }
   ],
   "source": [
    "cintersections, cray_param, cray_intersect_param, cscene = get_peeled_intersections(root, 'Frame001', is_smpl=False)\n",
    "depth_next, _ = get_depth_peels(root, 'Frame001', cintersections, cray_param, cray_intersect_param, cscene, out_dir, is_smpl=False)\n",
    "disp_next = [depth_next[i] - smpl_depth_next[i] for i in range(4)]\n",
    "dep_image1 = Image.fromarray((np.uint8(depth_next[0]*90))).convert('RGB')\n",
    "dep_image1"
   ]
  },
  {
   "cell_type": "code",
   "execution_count": 8,
   "id": "a09ff2db-7015-4019-b04e-563ac82f3fb9",
   "metadata": {},
   "outputs": [],
   "source": [
    "rotate_1 = trimesh.transformations.rotation_matrix(angle=np.radians(90), direction=[0, 0, -1])\n",
    "rotate_2 = trimesh.transformations.rotation_matrix(angle=np.radians(180), direction=[0,-1,0])\n",
    "extrinsic = torch.tensor(rotate_1[:3, :3] @ rotate_2[:3, :3]).float()"
   ]
  },
  {
   "cell_type": "code",
   "execution_count": 9,
   "id": "bd46bf2b-0eea-4e79-8382-3788eda8684a",
   "metadata": {},
   "outputs": [],
   "source": [
    "x, y = torch.meshgrid(torch.arange(0, smpl_depth_curr[0].shape[1]),\n",
    "                      torch.arange(0, smpl_depth_curr[0].shape[0]))\n",
    "\n",
    "x = x.reshape(-1)\n",
    "y = y.reshape(-1)\n",
    "ones = torch.ones_like(x)\n",
    "im_points = torch.stack((y, x, ones), 0).float()\n",
    "K = torch.tensor(K).float()\n",
    "\n",
    "world_points = ((torch.linalg.inv(extrinsic) @ torch.linalg.inv(K) @ im_points) * smpl_depth_curr[0].reshape(-1)).cpu().numpy()\n",
    "world_points_next_gt = ((torch.linalg.inv(extrinsic) @ torch.linalg.inv(K) @ im_points) * smpl_depth_next[0].reshape(-1)).cpu().numpy()\n",
    "#world_points = (torch.linalg.inv(K) @ (im_points * smpl_depth_curr[0].reshape(-1))).cpu().numpy()\n",
    "world_points_next = (world_points.T + scf[0].reshape(-1, 3)).T\n",
    "im_points_next = K @ extrinsic @ world_points_next"
   ]
  },
  {
   "cell_type": "code",
   "execution_count": 10,
   "id": "a62551cc-c9bf-4267-88bd-1ce283da0e7c",
   "metadata": {},
   "outputs": [],
   "source": [
    "world_points_next = torch.tensor(world_points_next).unsqueeze(0)\n",
    "world_points_next_gt = torch.tensor(world_points_next_gt).unsqueeze(0)"
   ]
  },
  {
   "cell_type": "code",
   "execution_count": null,
   "id": "08aed357-cec2-4971-a285-4dbb74d950ce",
   "metadata": {},
   "outputs": [],
   "source": [
    "loss = chamfer_distance(world_points_next.permute(0,2,1), world_points_next_gt.permute(0,2,1))"
   ]
  },
  {
   "cell_type": "code",
   "execution_count": null,
   "id": "9a958da8-064a-469c-8986-46881df5847c",
   "metadata": {},
   "outputs": [],
   "source": [
    "loss"
   ]
  },
  {
   "cell_type": "code",
   "execution_count": 26,
   "id": "0f5cb52e-9d9a-4e01-9828-10f946c9a030",
   "metadata": {},
   "outputs": [
    {
     "data": {
      "text/plain": [
       "torch.Size([1, 3, 262144])"
      ]
     },
     "execution_count": 26,
     "metadata": {},
     "output_type": "execute_result"
    }
   ],
   "source": [
    "world_points_next.shape"
   ]
  },
  {
   "cell_type": "code",
   "execution_count": null,
   "id": "3e4e9916-d97f-4cb7-a9d3-4a2e177e6be9",
   "metadata": {},
   "outputs": [],
   "source": []
  }
 ],
 "metadata": {
  "kernelspec": {
   "display_name": "Python 3 (ipykernel)",
   "language": "python",
   "name": "python3"
  },
  "language_info": {
   "codemirror_mode": {
    "name": "ipython",
    "version": 3
   },
   "file_extension": ".py",
   "mimetype": "text/x-python",
   "name": "python",
   "nbconvert_exporter": "python",
   "pygments_lexer": "ipython3",
   "version": "3.8.11"
  }
 },
 "nbformat": 4,
 "nbformat_minor": 5
}
