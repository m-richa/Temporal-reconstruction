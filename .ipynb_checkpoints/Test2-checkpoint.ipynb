{
 "cells": [
  {
   "cell_type": "code",
   "execution_count": 1,
   "id": "fce892b6-29bd-464a-9d06-e55fa26f8b9a",
   "metadata": {},
   "outputs": [],
   "source": [
    "from dataloader.dataloader import *\n",
    "from PIL import Image\n",
    "\n",
    "from model.model import ResNetAE\n",
    "import os\n",
    "import torch\n",
    "import numpy as np\n",
    "from skimage import io\n",
    "import trimesh\n",
    "\n",
    "from utils.utils import get_peeled_intersections, get_rgb_peels, get_depth_peels, mesh_init\n",
    "from utils.sceneflow import get_scf_peels\n",
    "from utils.loss_utils import *\n",
    "from utils.backproject import *\n",
    "from dataloader.dataloader import *\n",
    "from torchvision import transforms"
   ]
  },
  {
   "cell_type": "code",
   "execution_count": 2,
   "id": "daae1cab-5a84-43b9-9a35-52f5cfb92ac1",
   "metadata": {},
   "outputs": [],
   "source": [
    "dataset_path = '/home2/richa.mishra/4DReconstruction/dataset/'\n",
    "seq_ID = '00491'\n",
    "\n",
    "dataloader = TemporalDataloader(dataset_path, seq_ID, K_frames=2, \n",
    "                               batch_size = 2, shuffle=True)"
   ]
  },
  {
   "cell_type": "code",
   "execution_count": 3,
   "id": "08a162f1-9951-4ce4-9821-32446beefb84",
   "metadata": {},
   "outputs": [
    {
     "name": "stdout",
     "output_type": "stream",
     "text": [
      "max: tensor(0.1255) min: tensor(-0.3846)\n",
      "max: tensor(0.1061) min: tensor(-0.3706)\n",
      "max: tensor(0.1032) min: tensor(-0.3841)\n",
      "max: tensor(0.1255) min: tensor(-0.3846)\n",
      "idx = 0\n",
      "torch.Size([2, 2, 18, 512, 512])\n",
      "torch.Size([2, 2, 4, 512, 512])\n"
     ]
    },
    {
     "ename": "RuntimeError",
     "evalue": "shape '[4, 512, 512, 512]' is invalid for input of size 18874368",
     "output_type": "error",
     "traceback": [
      "\u001b[0;31m---------------------------------------------------------------------------\u001b[0m",
      "\u001b[0;31mRuntimeError\u001b[0m                              Traceback (most recent call last)",
      "\u001b[0;32m/tmp/ipykernel_18299/1810902401.py\u001b[0m in \u001b[0;36m<module>\u001b[0;34m\u001b[0m\n\u001b[1;32m      8\u001b[0m \u001b[0;34m\u001b[0m\u001b[0m\n\u001b[1;32m      9\u001b[0m     \u001b[0mdep1\u001b[0m \u001b[0;34m=\u001b[0m \u001b[0mdep1\u001b[0m\u001b[0;34m.\u001b[0m\u001b[0mreshape\u001b[0m\u001b[0;34m(\u001b[0m\u001b[0mB\u001b[0m\u001b[0;34m*\u001b[0m\u001b[0mK\u001b[0m\u001b[0;34m,\u001b[0m \u001b[0mn_peels\u001b[0m\u001b[0;34m,\u001b[0m \u001b[0mH\u001b[0m\u001b[0;34m,\u001b[0m \u001b[0mW\u001b[0m\u001b[0;34m)\u001b[0m\u001b[0;34m\u001b[0m\u001b[0;34m\u001b[0m\u001b[0m\n\u001b[0;32m---> 10\u001b[0;31m     \u001b[0mrgb\u001b[0m \u001b[0;34m=\u001b[0m \u001b[0mrgb\u001b[0m\u001b[0;34m.\u001b[0m\u001b[0mreshape\u001b[0m\u001b[0;34m(\u001b[0m\u001b[0mB\u001b[0m\u001b[0;34m*\u001b[0m\u001b[0mK\u001b[0m\u001b[0;34m,\u001b[0m \u001b[0mH\u001b[0m\u001b[0;34m,\u001b[0m \u001b[0mW\u001b[0m\u001b[0;34m,\u001b[0m \u001b[0mC\u001b[0m\u001b[0;34m)\u001b[0m\u001b[0;34m\u001b[0m\u001b[0;34m\u001b[0m\u001b[0m\n\u001b[0m\u001b[1;32m     11\u001b[0m     \u001b[0mprint\u001b[0m\u001b[0;34m(\u001b[0m\u001b[0mrgb\u001b[0m\u001b[0;34m.\u001b[0m\u001b[0mshape\u001b[0m\u001b[0;34m)\u001b[0m\u001b[0;34m\u001b[0m\u001b[0;34m\u001b[0m\u001b[0m\n\u001b[1;32m     12\u001b[0m     \u001b[0mprint\u001b[0m\u001b[0;34m(\u001b[0m\u001b[0mdep1\u001b[0m\u001b[0;34m.\u001b[0m\u001b[0mshape\u001b[0m\u001b[0;34m)\u001b[0m\u001b[0;34m\u001b[0m\u001b[0;34m\u001b[0m\u001b[0m\n",
      "\u001b[0;31mRuntimeError\u001b[0m: shape '[4, 512, 512, 512]' is invalid for input of size 18874368"
     ]
    }
   ],
   "source": [
    "for idx, d in enumerate(dataloader):\n",
    "    print(\"idx = \"+str(idx))\n",
    "    rgb, dep1, dep2 = d\n",
    "    print(rgb.shape)\n",
    "    print(dep1.shape)\n",
    "    B, K, H, W, C = rgb.shape\n",
    "    B, K, n_peels, H, W = dep1.shape\n",
    "    \n",
    "    dep1 = dep1.reshape(B*K, n_peels, H, W)\n",
    "    rgb = rgb.reshape(B*K, H, W, C)\n",
    "    print(rgb.shape)\n",
    "    print(dep1.shape)"
   ]
  },
  {
   "cell_type": "code",
   "execution_count": null,
   "id": "cbad5c5c-bf31-4cce-b561-7cb794a32c3d",
   "metadata": {},
   "outputs": [],
   "source": []
  }
 ],
 "metadata": {
  "kernelspec": {
   "display_name": "Python 3 (ipykernel)",
   "language": "python",
   "name": "python3"
  },
  "language_info": {
   "codemirror_mode": {
    "name": "ipython",
    "version": 3
   },
   "file_extension": ".py",
   "mimetype": "text/x-python",
   "name": "python",
   "nbconvert_exporter": "python",
   "pygments_lexer": "ipython3",
   "version": "3.8.11"
  }
 },
 "nbformat": 4,
 "nbformat_minor": 5
}
